{
 "cells": [
  {
   "cell_type": "code",
   "execution_count": 13,
   "metadata": {},
   "outputs": [],
   "source": [
    "import matplotlib.pyplot as plt\n",
    "import numpy as np\n",
    "\n",
    "class Othello():\n",
    "    \n",
    "    \n",
    "    def __init__(self, turn, board_state, AI):\n",
    "        \"\"\"\" Initialize the board and state of the game\n",
    "            Args:\n",
    "                turn: Whether it is white or black's turn\n",
    "                board_state: the chararray filled with 'w' for white, 'b' for black,\n",
    "                and 'e' for empty representing the current board state. \n",
    "                AI: whether white or black is the AI\n",
    "        \"\"\"\n",
    "        # If the board state is given at instantiation, set it as the current\n",
    "        # board state, otherwise instantiate normal starting position\n",
    "        \n",
    "        if type(board_state) == np.chararray:\n",
    "            self.board_state = board_state\n",
    "        else:\n",
    "            self.board_state = np.chararray((8,8))\n",
    "            self.board_state[:] = b'e'\n",
    "            self.board_state[3][3] = b'b'\n",
    "            self.board_state[4][3] = b'w'\n",
    "            self.board_state[3][4] = b'w'\n",
    "            self.board_state[4][4] = b'b'\n",
    "        \n",
    "        # If whose turn is given at instantiation, set it, otherwise default\n",
    "        # to black\n",
    "        \n",
    "        if turn== b'w' or turn== b'b':\n",
    "            self.turn=turn\n",
    "        else:\n",
    "            self.turn = b'b'\n",
    "        \n",
    "        # If which person is AI is given, set it, otherwise default\n",
    "        # to white\n",
    "        \n",
    "        if AI == b'w' or AI == b'b':\n",
    "            self.AI = AI\n",
    "        else:\n",
    "            self.AI = b'w'\n",
    "    \n",
    "    def do_turn(self, x, y):\n",
    "        \"\"\" Do a single black or white turn\n",
    "            Args:\n",
    "                x: x coordinate of the move desired to make\n",
    "                y: y coordinate of the move desired to make\n",
    "        \"\"\"\n",
    "        # make a tuple move as concatenation of x and y\n",
    "        move = (x,y)\n",
    "        \n",
    "        # get a list of all the valid moves at this board state\n",
    "        valid_moves = self.get_valid_moves()\n",
    "        \n",
    "        # if there are no valid moves, change turn to other person's turn\n",
    "        \n",
    "        if not valid_moves:\n",
    "            print(\"No moves remaining! Changing to other person's turn :(\")\n",
    "            if self.turn == b'b':\n",
    "                    self.turn = b'w'\n",
    "            else:\n",
    "                    self.turn = b'b'\n",
    "        else:\n",
    "            # Check if the move that the person is trying to make is valid\n",
    "\n",
    "            if move not in valid_moves:\n",
    "                print(\"Move not valid!\")\n",
    "            else:\n",
    "                # If the move is valid, and it's the AI's turn, update the board\n",
    "                # with the move, and swap the turn to the other person\n",
    "                if self.turn==self.AI:\n",
    "                    print(\"AI Moved.\")\n",
    "                    self.update_board(x, y)\n",
    "                    print(\"Your turn!\")\n",
    "                    if self.turn == b'b':\n",
    "                        self.turn = b'w'\n",
    "                    else:\n",
    "                        self.turn = b'b'\n",
    "                # If the move is valid, and it's NOT the AI's turn, update the board\n",
    "                # with the new move and switch to AI's turn\n",
    "\n",
    "                elif self.turn != self.AI:\n",
    "                    print(\"You moved.\")\n",
    "                    self.update_board(x, y)\n",
    "                    print(\"AI Turn!\")\n",
    "\n",
    "                    # find the best move the computer can make\n",
    "                    self.turn = self.AI\n",
    "                    new_x, new_y = self.get_best_move()\n",
    "                    self.do_turn(new_x, new_y)   \n",
    "                else:\n",
    "                    print('Something went seriously wrong to get here.')\n",
    "        \n",
    "    \n",
    "    def update_board(self, x, y):\n",
    "        \"\"\" Update the board with the new move and all of the changes\n",
    "            that happen as a result of the move\n",
    "            Args:\n",
    "                x: x position of the move\n",
    "                y: y position of the move\n",
    "        \"\"\"\n",
    "        \n",
    "        # Define the eight vectors you can move from one square\n",
    "        directions = [(0,1),(0,-1),(1,0),(1,1),(1,-1),(-1,0),(-1,-1),(-1, 1)]\n",
    "        \n",
    "        # Figure out whose turn it is\n",
    "        self.board_state[x][y] = self.turn\n",
    "        \n",
    "        # Find out which directions need to be updated to a different colour\n",
    "        need_to_be_updated = []\n",
    "        # Iterate through all the directions and check them one at a time\n",
    "        for d in directions:\n",
    "            move_found = False\n",
    "            \n",
    "            # check_spot is our placeholder for the first spot in the direction\n",
    "            check_spot = tuple(map(sum, zip((x,y),d)))\n",
    "            \n",
    "            # start a separate list to keep adding positions that are the other\n",
    "            # colour as the one we started out with until we hit the\n",
    "            # same colour as we started with\n",
    "            may_need_to_be_updated = [check_spot]\n",
    "            \n",
    "            # Check if the spot is out of bounds of the board, then whether\n",
    "            # the colour of this next square in direction d is of the opposite colour\n",
    "            if not self.isOOB(*check_spot) and self.board_state[check_spot[0]][check_spot[1]] != self.turn and self.board_state[check_spot[0]][check_spot[1]] != b'e':\n",
    "                # Keep moving in the direction d, checking if it's OOB and what colour it is\n",
    "                check_spot = tuple(map(sum, zip((check_spot[0],check_spot[1]),d)))\n",
    "    \n",
    "                may_need_to_be_updated.append(check_spot)\n",
    "                while not self.isOOB(*check_spot) and not move_found:\n",
    "                    check_spot_colour = self.board_state[check_spot[0]][check_spot[1]]\n",
    "                    # If the next next or next*3... spot in the direction is the same colour as\n",
    "                    # whose turn it is, we know that's the end of the move and can update all\n",
    "                    # of their colours\n",
    "                    if check_spot_colour == self.turn:\n",
    "                        move_found = True\n",
    "                        # get out of the while loop and change the may need to be updated\n",
    "                        # into definitely need to be updated\n",
    "                        need_to_be_updated+=may_need_to_be_updated\n",
    "                    elif check_spot_colour == b'e':\n",
    "                        # If we find an empty spot, the updating shouldnt have gone \n",
    "                        # in that direction, so we just move on to the next direction\n",
    "                        move_found = True\n",
    "                    else:\n",
    "                        # If it's still of the opposite colour, move onto the next spot\n",
    "                        # in that direction and check for the above conditions all over\n",
    "                        # again\n",
    "                        check_spot = tuple(map(sum, zip((check_spot[0],check_spot[1]),d)))\n",
    "                        may_need_to_be_updated.append(check_spot)\n",
    "\n",
    "            # If the spot isn't of opposite colour, move on to next direction\n",
    "            else:\n",
    "                continue\n",
    "        for i, j in need_to_be_updated:\n",
    "            self.board_state[i][j] = self.turn\n",
    "        \n",
    "        print(self)\n",
    "    \n",
    "    def get_valid_moves(self):\n",
    "        \"\"\" Check current board state and see what moves are valid\n",
    "        \"\"\"\n",
    "        \n",
    "        # Define the eight vectors you can move from one square\n",
    "        directions = [(0,1),(0,-1),(1,0),(1,1),(1,-1),(-1,0),(-1,-1),(-1, 1)]\n",
    "        valid_moves = []\n",
    "        \n",
    "        # Set the x_bound and y_Bound to how big the board is\n",
    "        y_bound = self.board_state.shape[1]\n",
    "        x_bound = self.board_state.shape[0]\n",
    "        \n",
    "        # Iterate through the board finding empty positions and from every\n",
    "        # empty position, search through the directions for the same colour\n",
    "        for i in range(0, x_bound):\n",
    "            for j in range(0, y_bound):\n",
    "                if self.board_state[i][j] == b'e':\n",
    "                    # search all directions for each empty spot\n",
    "                    for d in directions:\n",
    "                        move_found = False\n",
    "                        # check_spot is our placeholder for the first spot in the direction\n",
    "                        check_spot = tuple(map(sum, zip((i,j),d)))\n",
    "                        \n",
    "                        # Check if the spot is out of bounds of the board, then whether\n",
    "                        # the colour of this next square in direction d is of the opposite colour\n",
    "                        if not self.isOOB(*check_spot) and self.board_state[check_spot[0]][check_spot[1]] != self.turn and self.board_state[check_spot[0]][check_spot[1]] != b'e':\n",
    "                            check_spot = tuple(map(sum, zip((check_spot[0],check_spot[1]),d)))\n",
    "                            # Keep moving in the direction d, checking if it's OOB and what colour it is\n",
    "                            \n",
    "                            while not self.isOOB(*check_spot) and not move_found:\n",
    "                                check_spot_colour = self.board_state[check_spot[0]][check_spot[1]]\n",
    "                                if check_spot_colour == self.turn:\n",
    "                                    move_found = True\n",
    "                                    # If the next next or next*3... spot in the direction is the same colour as\n",
    "                                    # whose turn it is, we know that's the end of the move and can add the move\n",
    "                                    # to our list of valid moves\n",
    "                                    valid_moves.append((i,j))\n",
    "                                elif check_spot_colour == b'e':\n",
    "                                    move_found = True\n",
    "                                    # If we find an empty cell before we find our same colour,\n",
    "                                    # the move is a dead-end and we move to next direction\n",
    "                                else:\n",
    "                                    # If none of the above happens, that means we can keep looking\n",
    "                                    # in that direction until one of the top three things happen\n",
    "                                    check_spot = tuple(map(sum, zip((check_spot[0],check_spot[1]),d)))\n",
    "                else:\n",
    "                    continue\n",
    "        \n",
    "        # return all the valid moves we gathered\n",
    "        return valid_moves\n",
    "        \n",
    "    def isOOB(self, x, y):\n",
    "        \"\"\"Given an x and y, check if the coordinates are inbounds or out\n",
    "            Args:\n",
    "                x: the x coordinate of the move\n",
    "                y: the y coordinate of the move\n",
    "        \"\"\"\n",
    "        \n",
    "        y_bound = self.board_state.shape[1]\n",
    "        x_bound = self.board_state.shape[0]\n",
    "        if (x < x_bound and y < y_bound and x >= 0 and y >= 0):\n",
    "            return False\n",
    "        else:\n",
    "            return True\n",
    "            \n",
    "    \n",
    "    def get_best_move(self):\n",
    "        # Filler at the moment, designed to get a random valid move and play\n",
    "        import random\n",
    "        valid_moves = self.get_valid_moves()\n",
    "        move = random.randint(0,len(valid_moves)-1)\n",
    "        print(valid_moves[move])\n",
    "        return valid_moves[move]\n",
    "    \n",
    "    def __repr__(self):\n",
    "        to_return = 'Game of Othello with board position:\\n {0}'.format(self.board_state)\n",
    "                    \n",
    "        return to_return\n",
    "    def __str__(self):\n",
    "        \"\"\" Print 'Game of Othello' and then display the current board state\n",
    "            with pyplot\"\"\"\n",
    "        to_return = 'Game of Othello'\n",
    "        y_bound = self.board_state.shape[1]\n",
    "        x_bound = self.board_state.shape[0]\n",
    "        fig = plt.figure()\n",
    "        ax = fig.gca()\n",
    "        ax.set_xticks(np.arange(-.5,8.5,1))\n",
    "        ax.set_yticks(np.arange(-.5,8.5,1))\n",
    "        ax.set_yticklabels([])\n",
    "        ax.set_xticklabels([])\n",
    "        ax.set_facecolor('green')\n",
    "        for i in range(0, x_bound):\n",
    "            for j in range(0, y_bound):\n",
    "                colour = self.board_state[i][j]\n",
    "                if colour!=b'e':\n",
    "                    if colour==b'w':\n",
    "                        colour = 'white'\n",
    "                    if colour==b'b':\n",
    "                        colour = 'black'\n",
    "                    plt.plot(i, j, marker='o', color=colour, markersize=20)\n",
    "        plt.grid(True)\n",
    "        plt.axis([-.5,7.5,-.5,7.5])\n",
    "        return to_return"
   ]
  },
  {
   "cell_type": "code",
   "execution_count": 14,
   "metadata": {},
   "outputs": [],
   "source": [
    "o = Othello(turn=b'b', board_state='', AI=b'w')\n"
   ]
  },
  {
   "cell_type": "code",
   "execution_count": 15,
   "metadata": {},
   "outputs": [
    {
     "name": "stdout",
     "output_type": "stream",
     "text": [
      "[(2, 4), (3, 5), (4, 2), (5, 3)]\n",
      "You moved.\n",
      "Game of Othello\n",
      "AI Turn!\n",
      "(2, 5)\n",
      "AI Moved.\n",
      "Game of Othello\n",
      "Your turn!\n"
     ]
    },
    {
     "data": {
      "image/png": "[encoded data removed]",
      "text/plain": [
       "<Figure size 432x288 with 1 Axes>"
      ]
     },
     "metadata": {
      "needs_background": "light"
     },
     "output_type": "display_data"
    },
    {
     "data": {
      "image/png": "[encoded data removed]",
      "text/plain": [
       "<Figure size 432x288 with 1 Axes>"
      ]
     },
     "metadata": {
      "needs_background": "light"
     },
     "output_type": "display_data"
    }
   ],
   "source": [
    "print(o.get_valid_moves())\n",
    "o.do_turn(2,4)"
   ]
  },
  {
   "cell_type": "code",
   "execution_count": 16,
   "metadata": {},
   "outputs": [
    {
     "name": "stdout",
     "output_type": "stream",
     "text": [
      "You moved.\n",
      "Game of Othello\n",
      "AI Turn!\n",
      "(1, 4)\n",
      "AI Moved.\n",
      "Game of Othello\n",
      "Your turn!\n"
     ]
    },
    {
     "data": {
      "image/png": "[encoded data removed]",
      "text/plain": [
       "<Figure size 432x288 with 1 Axes>"
      ]
     },
     "metadata": {
      "needs_background": "light"
     },
     "output_type": "display_data"
    },
    {
     "data": {
      "image/png": "[encoded data removed]",
      "text/plain": [
       "<Figure size 432x288 with 1 Axes>"
      ]
     },
     "metadata": {
      "needs_background": "light"
     },
     "output_type": "display_data"
    }
   ],
   "source": [
    "o.do_turn(2,6)"
   ]
  },
  {
   "cell_type": "code",
   "execution_count": 17,
   "metadata": {},
   "outputs": [
    {
     "name": "stdout",
     "output_type": "stream",
     "text": [
      "You moved.\n",
      "Game of Othello\n",
      "AI Turn!\n",
      "(5, 4)\n",
      "AI Moved.\n",
      "Game of Othello\n",
      "Your turn!\n"
     ]
    },
    {
     "data": {
      "image/png": "[encoded data removed]",
      "text/plain": [
       "<Figure size 432x288 with 1 Axes>"
      ]
     },
     "metadata": {
      "needs_background": "light"
     },
     "output_type": "display_data"
    },
    {
     "data": {
      "image/png": "[encoded data removed]",
      "text/plain": [
       "<Figure size 432x288 with 1 Axes>"
      ]
     },
     "metadata": {
      "needs_background": "light"
     },
     "output_type": "display_data"
    }
   ],
   "source": [
    "o.do_turn(2,3)"
   ]
  },
  {
   "cell_type": "code",
   "execution_count": 12,
   "metadata": {},
   "outputs": [
    {
     "name": "stdout",
     "output_type": "stream",
     "text": [
      "Game of Othello\n"
     ]
    },
    {
     "data": {
      "image/png": "[encoded data removed]",
      "text/plain": [
       "<Figure size 432x288 with 1 Axes>"
      ]
     },
     "metadata": {
      "needs_background": "light"
     },
     "output_type": "display_data"
    }
   ],
   "source": [
    "print(o)"
   ]
  },
  {
   "cell_type": "code",
   "execution_count": null,
   "metadata": {},
   "outputs": [],
   "source": []
  }
 ],
 "metadata": {
  "kernelspec": {
   "display_name": "Python 3",
   "language": "python",
   "name": "python3"
  },
  "language_info": {
   "codemirror_mode": {
    "name": "ipython",
    "version": 3
   },
   "file_extension": ".py",
   "mimetype": "text/x-python",
   "name": "python",
   "nbconvert_exporter": "python",
   "pygments_lexer": "ipython3",
   "version": "3.5.2"
  }
 },
 "nbformat": 4,
 "nbformat_minor": 2
}
